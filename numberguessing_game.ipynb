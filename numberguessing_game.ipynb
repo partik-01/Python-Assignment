{
 "cells": [
  {
   "cell_type": "code",
   "execution_count": 3,
   "id": "e41dc503",
   "metadata": {},
   "outputs": [
    {
     "name": "stdout",
     "output_type": "stream",
     "text": [
      "guess a number : 12\n",
      "!! sorry :) guess higher !!\n",
      "guess a number : 50\n",
      "!! sorry :) guess higher !!\n",
      "guess a number : 60\n",
      "!! sorry :) guess higher !!\n",
      "guess a number : 70\n",
      "!! sorry :) guess lower !!\n",
      "guess a number : 69\n",
      "!! sorry :) guess lower !!\n",
      "guess a number : 66\n",
      "!! sorry :) guess lower !!\n",
      "guess a number : 65\n",
      "!! sorry :) guess lower !!\n",
      "guess a number : 61\n",
      "!!!!!  yay you won the game  !!!!!\n"
     ]
    }
   ],
   "source": [
    "#random number guessing game\n",
    "\n",
    "# importing the random module\n",
    "import random\n",
    "randomnum =random.randint(1,100)\n",
    "\n",
    "while (1):\n",
    "    guess=int(input(\"guess a number between 1 to 100 : \"))\n",
    "    if guess == randomnum : \n",
    "        print(\"!!!!!  yay you won the game  !!!!!\")\n",
    "        break\n",
    "    elif guess < randomnum :\n",
    "        print(\"!! sorry :) guess higher !!\")\n",
    "    else :\n",
    "        print(\"!! sorry :) guess lower !!\")\n",
    "        \n",
    "\n"
   ]
  },
  {
   "cell_type": "code",
   "execution_count": null,
   "id": "6a8a511b",
   "metadata": {},
   "outputs": [],
   "source": []
  }
 ],
 "metadata": {
  "kernelspec": {
   "display_name": "Python 3 (ipykernel)",
   "language": "python",
   "name": "python3"
  },
  "language_info": {
   "codemirror_mode": {
    "name": "ipython",
    "version": 3
   },
   "file_extension": ".py",
   "mimetype": "text/x-python",
   "name": "python",
   "nbconvert_exporter": "python",
   "pygments_lexer": "ipython3",
   "version": "3.11.5"
  }
 },
 "nbformat": 4,
 "nbformat_minor": 5
}
