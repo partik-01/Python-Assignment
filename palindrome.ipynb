{
 "cells": [
  {
   "cell_type": "code",
   "execution_count": 28,
   "id": "7c930be3",
   "metadata": {},
   "outputs": [
    {
     "name": "stdout",
     "output_type": "stream",
     "text": [
      "enter a number : 12321\n",
      "yay it is plaindrome !!\n"
     ]
    }
   ],
   "source": [
    "#program to check palindrome\n",
    "\n",
    "a=int(input(\"enter a number : \"))\n",
    "def palindrome(x):\n",
    "    b=0\n",
    "    original=x\n",
    "    while x!=0:\n",
    "        \n",
    "        rem= x %10\n",
    "        b= b*10 + rem\n",
    "        x = x // 10 \n",
    "     \n",
    "    print(\"yay it is plaindrome !!\") if original == b else print(\"Not Palindrome !! \")\n",
    "       \n",
    "palindrome(a)\n",
    "    \n"
   ]
  },
  {
   "cell_type": "code",
   "execution_count": null,
   "id": "4e0bcc25",
   "metadata": {},
   "outputs": [],
   "source": []
  }
 ],
 "metadata": {
  "kernelspec": {
   "display_name": "Python 3 (ipykernel)",
   "language": "python",
   "name": "python3"
  },
  "language_info": {
   "codemirror_mode": {
    "name": "ipython",
    "version": 3
   },
   "file_extension": ".py",
   "mimetype": "text/x-python",
   "name": "python",
   "nbconvert_exporter": "python",
   "pygments_lexer": "ipython3",
   "version": "3.11.5"
  }
 },
 "nbformat": 4,
 "nbformat_minor": 5
}
