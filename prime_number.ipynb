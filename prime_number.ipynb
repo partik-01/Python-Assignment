{
 "cells": [
  {
   "cell_type": "code",
   "execution_count": 25,
   "id": "0a3909c7",
   "metadata": {},
   "outputs": [
    {
     "name": "stdout",
     "output_type": "stream",
     "text": [
      "enter the lower number : 3\n",
      "enter the upper number : 12\n",
      "5\n",
      "7\n",
      "11\n"
     ]
    }
   ],
   "source": [
    "#prime number within a given range using function\n",
    "\n",
    "lower=int(input(\"enter the lower number : \"))\n",
    "upper= int(input(\"enter the upper number : \"))\n",
    "def prime(lo, up):\n",
    "    while lo < up:\n",
    "        count =0\n",
    "        for x in range(2,lo):\n",
    "            if (lo % x) == 0:\n",
    "                count +=1\n",
    "        if count == 0:\n",
    "         print(lo)\n",
    "        lo +=1\n",
    "prime(lower+1, upper)"
   ]
  },
  {
   "cell_type": "code",
   "execution_count": null,
   "id": "b29708e3",
   "metadata": {},
   "outputs": [],
   "source": []
  }
 ],
 "metadata": {
  "kernelspec": {
   "display_name": "Python 3 (ipykernel)",
   "language": "python",
   "name": "python3"
  },
  "language_info": {
   "codemirror_mode": {
    "name": "ipython",
    "version": 3
   },
   "file_extension": ".py",
   "mimetype": "text/x-python",
   "name": "python",
   "nbconvert_exporter": "python",
   "pygments_lexer": "ipython3",
   "version": "3.11.5"
  }
 },
 "nbformat": 4,
 "nbformat_minor": 5
}
