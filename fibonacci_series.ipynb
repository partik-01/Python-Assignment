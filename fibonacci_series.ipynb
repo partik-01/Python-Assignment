{
 "cells": [
  {
   "cell_type": "code",
   "execution_count": 6,
   "id": "09e99cb7",
   "metadata": {},
   "outputs": [
    {
     "name": "stdout",
     "output_type": "stream",
     "text": [
      "How many terms ??  9\n",
      "the fibonacci series is. :\n",
      "0\n",
      "1\n",
      "1\n",
      "2\n",
      "3\n",
      "5\n",
      "8\n",
      "13\n",
      "21\n"
     ]
    }
   ],
   "source": [
    "#generate the Fibonacci sequence of a given number.\n",
    "\n",
    "limit=int(input(\"How many terms ??  \"))\n",
    "\n",
    "def fibonacci(num):\n",
    "    a=0\n",
    "    b=1\n",
    "    if num == 1:\n",
    "        print(\"the fibonacci series is. : \")\n",
    "        print(a)\n",
    "    else:\n",
    "        print (\"the fibonacci series is. :\")\n",
    "        while num != 0:\n",
    "            print(a)\n",
    "            c=a+b\n",
    "            a=b\n",
    "            b=c\n",
    "            num -=1\n",
    "\n",
    "fibonacci(limit)\n",
    "    "
   ]
  },
  {
   "cell_type": "code",
   "execution_count": null,
   "id": "0d9a6463",
   "metadata": {},
   "outputs": [],
   "source": []
  }
 ],
 "metadata": {
  "kernelspec": {
   "display_name": "Python 3 (ipykernel)",
   "language": "python",
   "name": "python3"
  },
  "language_info": {
   "codemirror_mode": {
    "name": "ipython",
    "version": 3
   },
   "file_extension": ".py",
   "mimetype": "text/x-python",
   "name": "python",
   "nbconvert_exporter": "python",
   "pygments_lexer": "ipython3",
   "version": "3.11.5"
  }
 },
 "nbformat": 4,
 "nbformat_minor": 5
}
